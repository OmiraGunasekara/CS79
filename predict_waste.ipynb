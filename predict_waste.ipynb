{
 "cells": [
  {
   "cell_type": "code",
   "execution_count": 2,
   "id": "519f55d0",
   "metadata": {},
   "outputs": [
    {
     "name": "stdout",
     "output_type": "stream",
     "text": [
      "Defaulting to user installation because normal site-packages is not writeable\n",
      "Requirement already satisfied: mysql-connector-python in c:\\users\\asus\\appdata\\roaming\\python\\python311\\site-packages (8.3.0)\n",
      "Defaulting to user installation because normal site-packages is not writeable\n",
      "Requirement already satisfied: nbconvert in c:\\users\\asus\\appdata\\roaming\\python\\python311\\site-packages (7.7.4)\n",
      "Requirement already satisfied: beautifulsoup4 in c:\\users\\asus\\appdata\\roaming\\python\\python311\\site-packages (from nbconvert) (4.12.2)\n",
      "Requirement already satisfied: bleach!=5.0.0 in c:\\users\\asus\\appdata\\roaming\\python\\python311\\site-packages (from nbconvert) (6.0.0)\n",
      "Requirement already satisfied: defusedxml in c:\\users\\asus\\appdata\\roaming\\python\\python311\\site-packages (from nbconvert) (0.7.1)\n",
      "Requirement already satisfied: jinja2>=3.0 in c:\\users\\asus\\appdata\\roaming\\python\\python311\\site-packages (from nbconvert) (3.1.2)\n",
      "Requirement already satisfied: jupyter-core>=4.7 in c:\\users\\asus\\appdata\\roaming\\python\\python311\\site-packages (from nbconvert) (5.3.1)\n",
      "Requirement already satisfied: jupyterlab-pygments in c:\\users\\asus\\appdata\\roaming\\python\\python311\\site-packages (from nbconvert) (0.2.2)\n",
      "Requirement already satisfied: markupsafe>=2.0 in c:\\users\\asus\\appdata\\roaming\\python\\python311\\site-packages (from nbconvert) (2.1.3)\n",
      "Requirement already satisfied: mistune<4,>=2.0.3 in c:\\users\\asus\\appdata\\roaming\\python\\python311\\site-packages (from nbconvert) (3.0.1)\n",
      "Requirement already satisfied: nbclient>=0.5.0 in c:\\users\\asus\\appdata\\roaming\\python\\python311\\site-packages (from nbconvert) (0.8.0)\n",
      "Requirement already satisfied: nbformat>=5.7 in c:\\users\\asus\\appdata\\roaming\\python\\python311\\site-packages (from nbconvert) (5.9.2)\n",
      "Requirement already satisfied: packaging in c:\\users\\asus\\appdata\\roaming\\python\\python311\\site-packages (from nbconvert) (23.1)\n",
      "Requirement already satisfied: pandocfilters>=1.4.1 in c:\\users\\asus\\appdata\\roaming\\python\\python311\\site-packages (from nbconvert) (1.5.0)\n",
      "Requirement already satisfied: pygments>=2.4.1 in c:\\users\\asus\\appdata\\roaming\\python\\python311\\site-packages (from nbconvert) (2.16.1)\n",
      "Requirement already satisfied: tinycss2 in c:\\users\\asus\\appdata\\roaming\\python\\python311\\site-packages (from nbconvert) (1.2.1)\n",
      "Requirement already satisfied: traitlets>=5.1 in c:\\users\\asus\\appdata\\roaming\\python\\python311\\site-packages (from nbconvert) (5.9.0)\n",
      "Requirement already satisfied: six>=1.9.0 in c:\\users\\asus\\appdata\\roaming\\python\\python311\\site-packages (from bleach!=5.0.0->nbconvert) (1.16.0)\n",
      "Requirement already satisfied: webencodings in c:\\users\\asus\\appdata\\roaming\\python\\python311\\site-packages (from bleach!=5.0.0->nbconvert) (0.5.1)\n",
      "Requirement already satisfied: platformdirs>=2.5 in c:\\users\\asus\\appdata\\roaming\\python\\python311\\site-packages (from jupyter-core>=4.7->nbconvert) (3.10.0)\n",
      "Requirement already satisfied: pywin32>=300 in c:\\users\\asus\\appdata\\roaming\\python\\python311\\site-packages (from jupyter-core>=4.7->nbconvert) (306)\n",
      "Requirement already satisfied: jupyter-client>=6.1.12 in c:\\users\\asus\\appdata\\roaming\\python\\python311\\site-packages (from nbclient>=0.5.0->nbconvert) (8.3.0)\n",
      "Requirement already satisfied: fastjsonschema in c:\\users\\asus\\appdata\\roaming\\python\\python311\\site-packages (from nbformat>=5.7->nbconvert) (2.18.0)\n",
      "Requirement already satisfied: jsonschema>=2.6 in c:\\users\\asus\\appdata\\roaming\\python\\python311\\site-packages (from nbformat>=5.7->nbconvert) (4.19.0)\n",
      "Requirement already satisfied: soupsieve>1.2 in c:\\users\\asus\\appdata\\roaming\\python\\python311\\site-packages (from beautifulsoup4->nbconvert) (2.4.1)\n",
      "Requirement already satisfied: attrs>=22.2.0 in c:\\users\\asus\\appdata\\roaming\\python\\python311\\site-packages (from jsonschema>=2.6->nbformat>=5.7->nbconvert) (23.1.0)\n",
      "Requirement already satisfied: jsonschema-specifications>=2023.03.6 in c:\\users\\asus\\appdata\\roaming\\python\\python311\\site-packages (from jsonschema>=2.6->nbformat>=5.7->nbconvert) (2023.7.1)\n",
      "Requirement already satisfied: referencing>=0.28.4 in c:\\users\\asus\\appdata\\roaming\\python\\python311\\site-packages (from jsonschema>=2.6->nbformat>=5.7->nbconvert) (0.30.2)\n",
      "Requirement already satisfied: rpds-py>=0.7.1 in c:\\users\\asus\\appdata\\roaming\\python\\python311\\site-packages (from jsonschema>=2.6->nbformat>=5.7->nbconvert) (0.10.0)\n",
      "Requirement already satisfied: python-dateutil>=2.8.2 in c:\\users\\asus\\appdata\\roaming\\python\\python311\\site-packages (from jupyter-client>=6.1.12->nbclient>=0.5.0->nbconvert) (2.8.2)\n",
      "Requirement already satisfied: pyzmq>=23.0 in c:\\users\\asus\\appdata\\roaming\\python\\python311\\site-packages (from jupyter-client>=6.1.12->nbclient>=0.5.0->nbconvert) (25.1.1)\n",
      "Requirement already satisfied: tornado>=6.2 in c:\\users\\asus\\appdata\\roaming\\python\\python311\\site-packages (from jupyter-client>=6.1.12->nbclient>=0.5.0->nbconvert) (6.3.3)\n"
     ]
    }
   ],
   "source": [
    "!pip install mysql-connector-python\n",
    "!pip install nbconvert"
   ]
  },
  {
   "cell_type": "code",
   "execution_count": 6,
   "id": "5551df9f-5aff-4fb4-87a1-b09c45de6929",
   "metadata": {},
   "outputs": [
    {
     "name": "stdout",
     "output_type": "stream",
     "text": [
      "Predicted weights for the next day:\n",
      "Food - Expired Canned Goods: 90.00 kg\n",
      "Waste - Some Waste: 106.00 kg\n",
      "Food - Organic Apple Waste: 185.00 kg\n"
     ]
    },
    {
     "name": "stderr",
     "output_type": "stream",
     "text": [
      "C:\\Users\\ASUS\\AppData\\Local\\Temp\\ipykernel_17280\\3388195818.py:25: UserWarning: pandas only supports SQLAlchemy connectable (engine/connection) or database string URI or sqlite3 DBAPI2 connection. Other DBAPI2 objects are not tested. Please consider using SQLAlchemy.\n",
      "  df = pd.read_sql(query, db_connection)\n"
     ]
    }
   ],
   "source": [
    "import pandas as pd\n",
    "import mysql.connector\n",
    "from datetime import datetime, timedelta\n",
    "\n",
    "def predict_weight(item, category, df):\n",
    "    item_data = df[(df['name'] == item) & (df['category'] == category)]\n",
    "    \n",
    "    daily_avg_weight = item_data['weight'].mean()\n",
    "    \n",
    "    return daily_avg_weight\n",
    "\n",
    "db_connection = mysql.connector.connect(\n",
    "    host=\"localhost\",\n",
    "    user=\"root\",\n",
    "    password=\"\",\n",
    "    database=\"zerowaste\"\n",
    ")\n",
    "\n",
    "query = \"SELECT name, category, weight, created_at FROM waste WHERE created_at >= CURDATE() - INTERVAL 7 DAY\"\n",
    "df = pd.read_sql(query, db_connection)\n",
    "\n",
    "db_connection.close()\n",
    "\n",
    "df['created_at'] = pd.to_datetime(df['created_at'])\n",
    "\n",
    "df['date'] = df['created_at'].dt.date\n",
    "\n",
    "recent_data = df[df['date'] >= (datetime.now() - timedelta(days=7)).date()]\n",
    "\n",
    "predictions = {}\n",
    "for (item, category) in recent_data[['name', 'category']].drop_duplicates().itertuples(index=False):\n",
    "    predicted_weight = predict_weight(item, category, recent_data)\n",
    "    predictions[(item, category)] = predicted_weight\n",
    "\n",
    "print(\"Predicted weights for the next day:\")\n",
    "for (item, category), weight in predictions.items():\n",
    "    print(f\"{category.title()} - {item}: {weight:.2f} kg\")\n",
    "\n",
    "with open('predictions.txt', 'w') as file:\n",
    "    for (item, category), weight in predictions.items():\n",
    "        file.write(f\"{category.title()} - {item}: {weight:.2f} kg for the next day\\n\")\n"
   ]
  },
  {
   "cell_type": "code",
   "execution_count": 3,
   "id": "57a70805-d0aa-4eb6-a1e7-b99f4d2afc18",
   "metadata": {},
   "outputs": [
    {
     "name": "stdout",
     "output_type": "stream",
     "text": [
      "Defaulting to user installation because normal site-packages is not writeable\n",
      "Requirement already satisfied: mysql-connector-python in c:\\users\\asus\\appdata\\roaming\\python\\python311\\site-packages (8.3.0)\n",
      "Note: you may need to restart the kernel to use updated packages.\n"
     ]
    }
   ],
   "source": []
  },
  {
   "cell_type": "code",
   "execution_count": null,
   "id": "4a5dcce4-2527-45f4-b699-493f660ca9b1",
   "metadata": {},
   "outputs": [],
   "source": []
  }
 ],
 "metadata": {
  "kernelspec": {
   "display_name": "Python 3 (ipykernel)",
   "language": "python",
   "name": "python3"
  },
  "language_info": {
   "codemirror_mode": {
    "name": "ipython",
    "version": 3
   },
   "file_extension": ".py",
   "mimetype": "text/x-python",
   "name": "python",
   "nbconvert_exporter": "python",
   "pygments_lexer": "ipython3",
   "version": "3.11.5"
  }
 },
 "nbformat": 4,
 "nbformat_minor": 5
}
